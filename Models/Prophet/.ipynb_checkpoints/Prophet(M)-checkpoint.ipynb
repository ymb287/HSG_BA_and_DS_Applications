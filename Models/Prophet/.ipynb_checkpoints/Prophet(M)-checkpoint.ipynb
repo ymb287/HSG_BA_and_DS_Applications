{
 "cells": [
  {
   "cell_type": "markdown",
   "id": "f8e1023c-b138-4763-83bb-c5257757604d",
   "metadata": {},
   "source": [
    "# Prophet Building for Multivariate "
   ]
  },
  {
   "cell_type": "code",
   "execution_count": 3,
   "id": "43fae9a4-1783-4005-a8a0-fec7cbc3b30d",
   "metadata": {},
   "outputs": [
    {
     "data": {
      "text/plain": [
       "Index(['Hour', 'Little Collins St-Swanston St (East)',\n",
       "       'Faraday St-Lygon St (West)', 'Melbourne Central',\n",
       "       'Chinatown-Lt Bourke St (South)', 'Lonsdale St (South)',\n",
       "       'Lygon St (West)', 'IsPublicHoliday', 'temp', 'humidity', 'rain_1h',\n",
       "       'clouds_all', 'Weekday_2', 'Weekday_3', 'Weekday_4', 'Weekday_5',\n",
       "       'Weekday_6', 'Weekday_7', 'Month_2', 'Month_3', 'Month_4', 'Month_5',\n",
       "       'Month_6', 'Month_7', 'Month_8', 'Month_9', 'Month_10', 'Month_11',\n",
       "       'Month_12', 'Season_Spring', 'Season_Summer', 'Season_Winter'],\n",
       "      dtype='object')"
      ]
     },
     "execution_count": 3,
     "metadata": {},
     "output_type": "execute_result"
    }
   ],
   "source": [
    "import pandas as pd\n",
    "\n",
    "# Load the CSV file\n",
    "df = pd.read_csv(\n",
    "    '~/Desktop/DATA_PROJECT/HSG_BA_and_DS_Applications/data/processed/final_df.csv',\n",
    "    parse_dates=True,\n",
    "    index_col=0\n",
    ")\n",
    "\n",
    "# Ensure the index is in datetime format\n",
    "df.index = pd.to_datetime(df.index)\n",
    "df_copy = df.copy()\n",
    "\n",
    "df_copy.columns"
   ]
  },
  {
   "cell_type": "code",
   "execution_count": 2,
   "id": "27f4eb53-3a66-4fe6-8327-0b46807e4413",
   "metadata": {},
   "outputs": [],
   "source": [
    "# Example for one location\n",
    "location = 'Little Collins St-Swanston St (East)'\n",
    "\n",
    "# Prepare the data for Prophet (from the copied dataset)\n",
    "data = df_copy[['Hour', location, 'IsPublicHoliday', 'temp', 'humidity', 'rain_1h', 'clouds_all']].rename(\n",
    "    columns={'Hour': 'ds', location: 'y'}\n",
    ")\n",
    "\n",
    "# Convert 'ds' to datetime format\n",
    "data['ds'] = pd.to_datetime(data['ds'])"
   ]
  },
  {
   "cell_type": "code",
   "execution_count": 22,
   "id": "8ec09b25-67e5-4413-95c2-d23c1999786a",
   "metadata": {},
   "outputs": [
    {
     "name": "stderr",
     "output_type": "stream",
     "text": [
      "23:13:54 - cmdstanpy - INFO - Chain [1] start processing\n"
     ]
    },
    {
     "name": "stdout",
     "output_type": "stream",
     "text": [
      "Processing Little Collins St-Swanston St (East)...\n"
     ]
    },
    {
     "name": "stderr",
     "output_type": "stream",
     "text": [
      "23:13:57 - cmdstanpy - INFO - Chain [1] done processing\n",
      "/opt/anaconda3/lib/python3.12/site-packages/sklearn/metrics/_regression.py:492: FutureWarning: 'squared' is deprecated in version 1.4 and will be removed in 1.6. To calculate the root mean squared error, use the function'root_mean_squared_error'.\n",
      "  warnings.warn(\n",
      "23:13:58 - cmdstanpy - INFO - Chain [1] start processing\n"
     ]
    },
    {
     "name": "stdout",
     "output_type": "stream",
     "text": [
      "Log-transformed multivariate model for Little Collins St-Swanston St (East) saved!\n",
      "Metrics for Little Collins St-Swanston St (East): RMSE=794.5802379887111, MAPE=517.2968812527722, R²=-0.7200895159410721\n",
      "Processing Faraday St-Lygon St (West)...\n"
     ]
    },
    {
     "name": "stderr",
     "output_type": "stream",
     "text": [
      "23:14:00 - cmdstanpy - INFO - Chain [1] done processing\n",
      "/opt/anaconda3/lib/python3.12/site-packages/sklearn/metrics/_regression.py:492: FutureWarning: 'squared' is deprecated in version 1.4 and will be removed in 1.6. To calculate the root mean squared error, use the function'root_mean_squared_error'.\n",
      "  warnings.warn(\n",
      "23:14:00 - cmdstanpy - INFO - Chain [1] start processing\n"
     ]
    },
    {
     "name": "stdout",
     "output_type": "stream",
     "text": [
      "Log-transformed multivariate model for Faraday St-Lygon St (West) saved!\n",
      "Metrics for Faraday St-Lygon St (West): RMSE=261.4461828647679, MAPE=1301.8119530139513, R²=-1.0132811576102099\n",
      "Processing Melbourne Central...\n"
     ]
    },
    {
     "name": "stderr",
     "output_type": "stream",
     "text": [
      "23:14:03 - cmdstanpy - INFO - Chain [1] done processing\n",
      "/opt/anaconda3/lib/python3.12/site-packages/sklearn/metrics/_regression.py:492: FutureWarning: 'squared' is deprecated in version 1.4 and will be removed in 1.6. To calculate the root mean squared error, use the function'root_mean_squared_error'.\n",
      "  warnings.warn(\n",
      "23:14:03 - cmdstanpy - INFO - Chain [1] start processing\n"
     ]
    },
    {
     "name": "stdout",
     "output_type": "stream",
     "text": [
      "Log-transformed multivariate model for Melbourne Central saved!\n",
      "Metrics for Melbourne Central: RMSE=1161.7060323692556, MAPE=607.8886577023642, R²=-1.1844790857568563\n",
      "Processing Chinatown-Lt Bourke St (South)...\n"
     ]
    },
    {
     "name": "stderr",
     "output_type": "stream",
     "text": [
      "23:14:05 - cmdstanpy - INFO - Chain [1] done processing\n",
      "/opt/anaconda3/lib/python3.12/site-packages/sklearn/metrics/_regression.py:492: FutureWarning: 'squared' is deprecated in version 1.4 and will be removed in 1.6. To calculate the root mean squared error, use the function'root_mean_squared_error'.\n",
      "  warnings.warn(\n",
      "23:14:05 - cmdstanpy - INFO - Chain [1] start processing\n"
     ]
    },
    {
     "name": "stdout",
     "output_type": "stream",
     "text": [
      "Log-transformed multivariate model for Chinatown-Lt Bourke St (South) saved!\n",
      "Metrics for Chinatown-Lt Bourke St (South): RMSE=400.9053091144363, MAPE=688.5432676743274, R²=-0.7964648151625966\n",
      "Processing Lonsdale St (South)...\n"
     ]
    },
    {
     "name": "stderr",
     "output_type": "stream",
     "text": [
      "23:14:08 - cmdstanpy - INFO - Chain [1] done processing\n"
     ]
    },
    {
     "name": "stdout",
     "output_type": "stream",
     "text": [
      "Log-transformed multivariate model for Lonsdale St (South) saved!\n",
      "Metrics for Lonsdale St (South): RMSE=401.26157452646555, MAPE=286.2866504270227, R²=-1.0358777184028685\n",
      "Evaluation metrics for log-transformed multivariate Prophet saved to 'log_transformed_multivariate_evaluation_metrics.csv'\n"
     ]
    },
    {
     "name": "stderr",
     "output_type": "stream",
     "text": [
      "/opt/anaconda3/lib/python3.12/site-packages/sklearn/metrics/_regression.py:492: FutureWarning: 'squared' is deprecated in version 1.4 and will be removed in 1.6. To calculate the root mean squared error, use the function'root_mean_squared_error'.\n",
      "  warnings.warn(\n"
     ]
    }
   ],
   "source": [
    "import numpy as np\n",
    "from prophet import Prophet\n",
    "from sklearn.metrics import mean_squared_error, r2_score\n",
    "import joblib\n",
    "\n",
    "# Define evaluation metrics\n",
    "def calculate_metrics(y_true, y_pred):\n",
    "    rmse = mean_squared_error(y_true, y_pred, squared=False)\n",
    "    y_true_nonzero = np.where(y_true == 0, np.nan, y_true)  # Avoid divide-by-zero for MAPE\n",
    "    mape = (np.abs((y_true - y_pred) / y_true_nonzero)).mean() * 100  # Exclude NaNs\n",
    "    r2 = r2_score(y_true, y_pred)\n",
    "    return rmse, mape, r2\n",
    "\n",
    "\n",
    "# Load the dataset\n",
    "df = pd.read_csv('~/Desktop/DATA_PROJECT/HSG_BA_and_DS_Applications/data/processed/final_df.csv', parse_dates=True, index_col=0)\n",
    "df.index = pd.to_datetime(df.index)\n",
    "df_copy = df.copy()\n",
    "\n",
    "# Locations to process\n",
    "locations = [\n",
    "    'Little Collins St-Swanston St (East)',\n",
    "    'Faraday St-Lygon St (West)',\n",
    "    'Melbourne Central',\n",
    "    'Chinatown-Lt Bourke St (South)',\n",
    "    'Lonsdale St (South)'\n",
    "]\n",
    "\n",
    "results = {}\n",
    "\n",
    "for location in locations:\n",
    "    print(f\"Processing {location}...\")\n",
    "\n",
    "    # Prepare data for the current location\n",
    "    data = df_copy[['Hour', location, 'IsPublicHoliday', 'temp', 'humidity', 'rain_1h', 'clouds_all']].rename(\n",
    "        columns={'Hour': 'ds', location: 'y'}\n",
    "    )\n",
    "    data['ds'] = pd.to_datetime(data['ds'])\n",
    "    data = data[data['y'] > 0]  # Remove zero counts for stability\n",
    "\n",
    "    # Log-transform the target variable\n",
    "    data['y'] = np.log(data['y'] + 1)\n",
    "\n",
    "    # Split into training and testing (last 16 days for testing)\n",
    "    split_index = int(len(data) - 16 * 24)\n",
    "    train_data = data.iloc[:split_index]\n",
    "    test_data = data.iloc[split_index:]\n",
    "\n",
    "    # Initialize Prophet with default settings\n",
    "    model = Prophet()\n",
    "    model.add_regressor('IsPublicHoliday')\n",
    "    model.add_regressor('temp')\n",
    "    model.add_regressor('humidity')\n",
    "    model.add_regressor('rain_1h')\n",
    "    model.add_regressor('clouds_all')\n",
    "\n",
    "    # Train the model\n",
    "    model.fit(train_data)\n",
    "\n",
    "    # Predict on the test set\n",
    "    future = test_data[['ds', 'IsPublicHoliday', 'temp', 'humidity', 'rain_1h', 'clouds_all']]\n",
    "    forecast = model.predict(future)\n",
    "\n",
    "    # Inverse transform predictions back to original scale\n",
    "    forecast['yhat'] = np.exp(forecast['yhat']) - 1\n",
    "\n",
    "    # Evaluate performance\n",
    "    y_true = np.exp(test_data['y'].values) - 1  # Inverse-transform true values\n",
    "    y_pred = forecast['yhat'].values\n",
    "    rmse, mape, r2 = calculate_metrics(y_true, y_pred)\n",
    "\n",
    "    # Save the trained model\n",
    "    model_filename = f'log_transformed_multivariate_model_{location.replace(\" \", \"_\").replace(\"–\", \"_\")}.pkl'\n",
    "    joblib.dump(model, model_filename)\n",
    "    print(f\"Log-transformed multivariate model for {location} saved!\")\n",
    "\n",
    "    # Store the metrics\n",
    "    results[location] = {'RMSE': rmse, 'MAPE': mape, 'R²': r2}\n",
    "    print(f\"Metrics for {location}: RMSE={rmse}, MAPE={mape}, R²={r2}\")\n",
    "\n",
    "# Save the results to a CSV file\n",
    "results_df = pd.DataFrame.from_dict(results, orient='index')\n",
    "results_df.to_csv('log_transformed_multivariate_evaluation_metrics.csv', index=True)\n",
    "print(\"Evaluation metrics for log-transformed multivariate Prophet saved to 'log_transformed_multivariate_evaluation_metrics.csv'\")"
   ]
  },
  {
   "cell_type": "code",
   "execution_count": null,
   "id": "3834c4f5-3eae-423a-9334-07eefe1f7e41",
   "metadata": {},
   "outputs": [],
   "source": []
  }
 ],
 "metadata": {
  "kernelspec": {
   "display_name": "Python 3 (ipykernel)",
   "language": "python",
   "name": "python3"
  },
  "language_info": {
   "codemirror_mode": {
    "name": "ipython",
    "version": 3
   },
   "file_extension": ".py",
   "mimetype": "text/x-python",
   "name": "python",
   "nbconvert_exporter": "python",
   "pygments_lexer": "ipython3",
   "version": "3.12.7"
  }
 },
 "nbformat": 4,
 "nbformat_minor": 5
}
