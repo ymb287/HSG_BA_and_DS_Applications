{
 "cells": [
  {
   "cell_type": "markdown",
   "id": "f8e1023c-b138-4763-83bb-c5257757604d",
   "metadata": {},
   "source": [
    "# Prophet Building for Multivariate with Roll and shift"
   ]
  },
  {
   "cell_type": "code",
   "execution_count": null,
   "id": "d7c3b362-ab16-4f0b-8a94-8a04194bb99a",
   "metadata": {},
   "outputs": [],
   "source": [
    "import pandas as pd\n",
    "import numpy as np\n",
    "from prophet import Prophet\n",
    "from sklearn.metrics import mean_squared_error, r2_score\n",
    "import matplotlib.pyplot as plt"
   ]
  },
  {
   "cell_type": "code",
   "execution_count": 3,
   "id": "43fae9a4-1783-4005-a8a0-fec7cbc3b30d",
   "metadata": {},
   "outputs": [
    {
     "data": {
      "text/plain": [
       "Index(['Hour', 'Little Collins St-Swanston St (East)',\n",
       "       'Faraday St-Lygon St (West)', 'Melbourne Central',\n",
       "       'Chinatown-Lt Bourke St (South)', 'Lonsdale St (South)',\n",
       "       'Lygon St (West)', 'IsPublicHoliday', 'temp', 'humidity', 'rain_1h',\n",
       "       'clouds_all', 'Weekday_2', 'Weekday_3', 'Weekday_4', 'Weekday_5',\n",
       "       'Weekday_6', 'Weekday_7', 'Month_2', 'Month_3', 'Month_4', 'Month_5',\n",
       "       'Month_6', 'Month_7', 'Month_8', 'Month_9', 'Month_10', 'Month_11',\n",
       "       'Month_12', 'Season_Spring', 'Season_Summer', 'Season_Winter'],\n",
       "      dtype='object')"
      ]
     },
     "execution_count": 3,
     "metadata": {},
     "output_type": "execute_result"
    }
   ],
   "source": [
    "import pandas as pd\n",
    "\n",
    "df = pd.read_csv(\n",
    "    '~/Desktop/DATA_PROJECT/HSG_BA_and_DS_Applications/data/processed/final_df.csv',\n",
    "    parse_dates=True,\n",
    "    index_col=0)\n",
    "\n",
    "df.index = pd.to_datetime(df.index)\n",
    "df_copy = df.copy()\n",
    "\n",
    "df_copy.columns"
   ]
  },
  {
   "cell_type": "markdown",
   "id": "9a1d78fc-0ad1-4e30-a87c-b61c176e497d",
   "metadata": {},
   "source": [
    "## Evaluation Metrics (RSME; MAPE; R**2)"
   ]
  },
  {
   "cell_type": "code",
   "execution_count": null,
   "id": "2dcb47eb-cdce-497f-a60d-889cace5c490",
   "metadata": {},
   "outputs": [],
   "source": [
    "def calculate_metrics(y_true, y_pred):\n",
    "    rmse = mean_squared_error(y_true, y_pred, squared=False)\n",
    "    y_true_nonzero = np.where(y_true == 0, np.nan, y_true)  # Avoid divide-by-zero for MAPE\n",
    "    mape = (np.abs((y_true - y_pred) / y_true_nonzero)).mean() * 100  # Exclude NaNs\n",
    "    r2 = r2_score(y_true, y_pred)\n",
    "    return rmse, mape, r2"
   ]
  },
  {
   "cell_type": "markdown",
   "id": "5430c964-1882-4411-b268-331ff8f28a5e",
   "metadata": {},
   "source": [
    "## Define the locations and the external regressors"
   ]
  },
  {
   "cell_type": "code",
   "execution_count": null,
   "id": "9b178f03-11f5-4ae4-8bed-ff101e7f6a44",
   "metadata": {},
   "outputs": [],
   "source": [
    "# List of locations to forecast\n",
    "locations = [\n",
    "    'Little Collins St-Swanston St (East)',\n",
    "    'Faraday St-Lygon St (West)',\n",
    "    'Melbourne Central',\n",
    "    'Chinatown-Lt Bourke St (South)',\n",
    "    'Lonsdale St (South)']\n",
    "\n",
    "# List of external regressors\n",
    "external_regressors = ['Hour', 'temp', 'rain_1h'] + [f'Weekday_{i}' for i in range(2, 8)]\n",
    "\n",
    "results = {}"
   ]
  },
  {
   "cell_type": "markdown",
   "id": "c176ac9b-c2c8-4933-bbd2-fd1d41d0d71f",
   "metadata": {},
   "source": [
    "## Model loop for all five locations\n",
    "##### Drop rows with empty values (almost none)\n",
    "##### Add the rolling average and lag features (External regressors)\n",
    "##### Train and test the model, saving it for streamlit application "
   ]
  },
  {
   "cell_type": "code",
   "execution_count": null,
   "id": "32e4f866-d5a9-476f-9bad-50a6930ea72a",
   "metadata": {},
   "outputs": [],
   "source": [
    "for location in locations:\n",
    "    print(f\"Processing {location}...\")\n",
    "\n",
    "    # Prepare data for the current location\n",
    "    data = df[[location] + external_regressors].rename(columns={location: 'y'})\n",
    "    data['ds'] = df.index\n",
    "\n",
    "    # Remove rows with missing values\n",
    "    data = data.dropna()\n",
    "\n",
    "    # Add rolling average and lag features\n",
    "    data['y_lag_1'] = data['y'].shift(1)\n",
    "    data['y_roll_24'] = data['y'].rolling(window=24).mean()\n",
    "    data = data.dropna()  # Drop rows with NaNs after creating lag and rolling features\n",
    "\n",
    "    # Split into training and testing (last 16 days for testing)\n",
    "    split_index = len(data) - 16 * 24\n",
    "    train_data = data.iloc[:split_index]\n",
    "    test_data = data.iloc[split_index:]\n",
    "\n",
    "    # Initialize the Prophet model\n",
    "    model = Prophet(daily_seasonality=True, weekly_seasonality=True)\n",
    "    \n",
    "    # Add external regressors\n",
    "    for regressor in external_regressors + ['y_lag_1', 'y_roll_24']:\n",
    "        model.add_regressor(regressor)\n",
    "\n",
    "    # Fit the model\n",
    "    model.fit(train_data)\n",
    "\n",
    "    # Make future dataframe\n",
    "    future = test_data[['ds']].copy()  # Use test data's 'ds' column as the future frame\n",
    "    \n",
    "    # Add regressors for the test data\n",
    "    for regressor in external_regressors + ['y_lag_1', 'y_roll_24']:\n",
    "        future[regressor] = test_data[regressor].values\n",
    "\n",
    "    # Predict\n",
    "    forecast = model.predict(future)\n",
    "\n",
    "    # Extract predictions\n",
    "    y_true = test_data['y'].values\n",
    "    y_pred = forecast['yhat'].values\n",
    "\n",
    "    # Calculate metrics\n",
    "    rmse, mape, r2 = calculate_metrics(y_true, y_pred)\n",
    "    results[location] = {'RMSE': rmse, 'MAPE': mape, 'R²': r2}\n",
    "    print(f\"Metrics for {location}: RMSE={rmse}, MAPE={mape}, R²={r2}\")\n",
    "\n",
    "# Save results to CSV\n",
    "results_df = pd.DataFrame.from_dict(results, orient='index')\n",
    "results_df.to_csv('prophet_with_lags_and_rolling_results.csv')\n",
    "\n",
    "# Save the trained model for each location\n",
    "model_filename = f'prophet_mondel_{location.replace(\" \", \"_\").replace(\"-\", \"_\")}.pkl'\n",
    "joblib.dump(best_model, model_filename)\n",
    "print(f\"Model for {location} saved as {model_filename}\")"
   ]
  }
 ],
 "metadata": {
  "kernelspec": {
   "display_name": "Python 3 (ipykernel)",
   "language": "python",
   "name": "python3"
  },
  "language_info": {
   "codemirror_mode": {
    "name": "ipython",
    "version": 3
   },
   "file_extension": ".py",
   "mimetype": "text/x-python",
   "name": "python",
   "nbconvert_exporter": "python",
   "pygments_lexer": "ipython3",
   "version": "3.12.7"
  }
 },
 "nbformat": 4,
 "nbformat_minor": 5
}
