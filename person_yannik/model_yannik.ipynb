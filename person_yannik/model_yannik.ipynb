{
 "cells": [
  {
   "cell_type": "code",
   "execution_count": null,
   "metadata": {},
   "outputs": [],
   "source": [
    "import pandas as pd"
   ]
  },
  {
   "cell_type": "markdown",
   "metadata": {},
   "source": [
    "# Loading"
   ]
  },
  {
   "cell_type": "code",
   "execution_count": null,
   "metadata": {},
   "outputs": [],
   "source": [
    "# Read csv\n",
    "df = pd.read_csv('..\\\\0_Data\\\\processed\\\\final_df.csv', parse_dates=True, index_col=0)\n",
    "df.index = pd.to_datetime(df.index)\n",
    "df.head(2)"
   ]
  },
  {
   "cell_type": "code",
   "execution_count": null,
   "metadata": {},
   "outputs": [],
   "source": [
    "train = df[df.index < \"2024-10-16\"]\n",
    "test = df[df.index >= \"2024-10-16\"]"
   ]
  },
  {
   "cell_type": "markdown",
   "metadata": {},
   "source": [
    "# SARIMA"
   ]
  },
  {
   "cell_type": "code",
   "execution_count": null,
   "metadata": {},
   "outputs": [],
   "source": [
    "train.columns"
   ]
  },
  {
   "cell_type": "markdown",
   "metadata": {},
   "source": [
    "## Staionary d"
   ]
  },
  {
   "cell_type": "code",
   "execution_count": null,
   "metadata": {},
   "outputs": [],
   "source": [
    "from statsmodels.tsa.stattools import adfuller\n",
    "\n",
    "target_column = ['Little Collins St-Swanston St (East)',\n",
    "       'Faraday St-Lygon St (West)', 'Melbourne Central',\n",
    "       'Chinatown-Lt Bourke St (South)', 'Lonsdale St (South)',\n",
    "       'Lygon St (West)']\n",
    "\n",
    "for column in target_column:\n",
    "    print(column)\n",
    "    result = adfuller(train[column])\n",
    "    print('p-value:', result[1])  # A p-value > 0.05 indicates non-stationarity.\n"
   ]
  },
  {
   "cell_type": "markdown",
   "metadata": {},
   "source": [
    "No differnecing needed"
   ]
  },
  {
   "cell_type": "code",
   "execution_count": null,
   "metadata": {},
   "outputs": [],
   "source": [
    "d = 0"
   ]
  },
  {
   "cell_type": "markdown",
   "metadata": {},
   "source": [
    "## Seasonal"
   ]
  },
  {
   "cell_type": "code",
   "execution_count": null,
   "metadata": {},
   "outputs": [],
   "source": [
    "from statsmodels.tsa.seasonal import seasonal_decompose\n",
    "import matplotlib.pyplot as plt\n",
    "\n",
    "df_2 = train[:1000]\n",
    "\n",
    "decomposition = seasonal_decompose(df_2['Little Collins St-Swanston St (East)'], model='additive', period=24)  # e.g., 24 for hourly data\n",
    "fig = decomposition.plot()\n",
    "# Make lines thinner\n",
    "for ax in fig.axes:\n",
    "    plt.setp(ax.lines, linewidth=1)\n",
    "\n",
    "fig.set_size_inches(10, 6)  # Width x Height in inches\n",
    "fig.tight_layout()  # Adjust spacing\n",
    "plt.show()\n"
   ]
  },
  {
   "cell_type": "code",
   "execution_count": null,
   "metadata": {},
   "outputs": [],
   "source": [
    "S = 24"
   ]
  },
  {
   "cell_type": "markdown",
   "metadata": {},
   "source": [
    "## Parameter search"
   ]
  },
  {
   "cell_type": "code",
   "execution_count": null,
   "metadata": {},
   "outputs": [],
   "source": [
    "import itertools\n",
    "import pandas as pd\n",
    "from statsmodels.tsa.statespace.sarimax import SARIMAX\n",
    "from tqdm import tqdm  # For progress bar\n",
    "\n",
    "# Define parameter ranges\n",
    "p = q = range(0, 4)  # Range for p and q\n",
    "d = 0                # Fixed d\n",
    "P = D = Q = range(0, 3)  # Range for seasonal P, D, Q\n",
    "m = 24               # Daily seasonality\n",
    "\n",
    "train = train.asfreq('H')\n",
    "\n",
    "# Generate all parameter combinations\n",
    "pdq = [(p_val, d, q_val) for p_val in p for q_val in q]  # Fix d = 0\n",
    "print(\"Non-seasonal combinations (p, d, q):\", pdq)\n",
    "\n",
    "seasonal_pdq = [(P_val, D_val, Q_val, m) for P_val in P for D_val in D for Q_val in Q]\n",
    "print(\"Seasonal combinations (P, D, Q, m):\", seasonal_pdq)\n",
    "\n",
    "total_combinations = len(pdq) * len(seasonal_pdq)\n",
    "\n",
    "# Initialize a dictionary to store the best results for each column\n",
    "best_results = {}\n",
    "\n",
    "columns = ['Little Collins St-Swanston St (East)',\n",
    "       'Faraday St-Lygon St (West)', 'Melbourne Central',\n",
    "       'Chinatown-Lt Bourke St (South)', 'Lonsdale St (South)',\n",
    "       'Lygon St (West)']\n",
    "\n",
    "# Iterate over columns\n",
    "for column in columns:\n",
    "    print(f\"Processing column: {column}\")\n",
    "    \n",
    "    # Reset best AIC and parameters for each column\n",
    "    best_aic = float('inf')\n",
    "    best_params = None\n",
    "    \n",
    "    # Progress bar\n",
    "    progress_bar = tqdm(total=total_combinations, desc=f\"Testing SARIMAX for {column}\")\n",
    "    \n",
    "    # Grid search over all parameter combinations\n",
    "    for param in pdq:\n",
    "        for seasonal_param in seasonal_pdq:\n",
    "            try:\n",
    "                # Fit the model\n",
    "                model = SARIMAX(\n",
    "                    train[column],\n",
    "                    order=param,\n",
    "                    seasonal_order=seasonal_param,\n",
    "                    enforce_stationarity=False,\n",
    "                    enforce_invertibility=False\n",
    "                )\n",
    "                results = model.fit(disp=False)\n",
    "\n",
    "                # Check if the model is better\n",
    "                if results.aic < best_aic:\n",
    "                    best_aic = results.aic\n",
    "                    best_params = (param, seasonal_param)\n",
    "\n",
    "            except Exception as e:\n",
    "                # Handle exceptions (e.g., convergence issues) silently\n",
    "                pass\n",
    "\n",
    "            # Update the progress bar\n",
    "            progress_bar.update(1)\n",
    "\n",
    "    # Close the progress bar\n",
    "    progress_bar.close()\n",
    "\n",
    "    # Store the best parameters and AIC for this column\n",
    "    best_results[column] = {'params': best_params, 'aic': best_aic}\n",
    "\n",
    "    print(f\"Best SARIMAX parameters for {column}: {best_params} with AIC: {best_aic}\")\n",
    "\n",
    "# Display the results for all columns\n",
    "for col, result in best_results.items():\n",
    "    print(f\"Column: {col}, Best Params: {result['params']}, Best AIC: {result['aic']}\")\n"
   ]
  },
  {
   "cell_type": "markdown",
   "metadata": {},
   "source": [
    "Column: Little Collins St-Swanston St (East): ((1, 0, 2), (1, 1, 1, 24)) with AIC: 230806.7825760926 <br>\n",
    "Column: Faraday St-Lygon St (West), Best Params: ((1, 0, 2), (1, 1, 1, 24)), Best AIC: 190003.90829115754 <br>\n",
    "Column: Melbourne Central, Best Params: ((1, 0, 2), (1, 1, 1, 24)), Best AIC: 233857.60412778181 <br>\n",
    "Column: Chinatown-Lt Bourke St (South), Best Params: ((1, 0, 2), (1, 1, 1, 24)), Best AIC: 219997.16664512668 <br>\n",
    "Column: Lonsdale St (South), Best Params: ((2, 0, 1), (1, 1, 1, 24)), Best AIC: 208037.09922881392 <br>\n",
    "Column: Lygon St (West), Best Params: ((2, 0, 2), (1, 1, 1, 24)), Best AIC: 195383.3819879219 <br>"
   ]
  },
  {
   "cell_type": "markdown",
   "metadata": {},
   "source": [
    "## Fit SARIMAX"
   ]
  },
  {
   "cell_type": "code",
   "execution_count": null,
   "metadata": {},
   "outputs": [],
   "source": [
    "from statsmodels.tsa.statespace.sarimax import SARIMAX\n",
    "import pickle\n",
    "best_params = {\n",
    "    'Little Collins St-Swanston St (East)': ((1, 0, 2), (1, 1, 1, 24)),\n",
    "    'Faraday St-Lygon St (West)': ((1, 0, 2), (1, 1, 1, 24)),\n",
    "    'Melbourne Central': ((1, 0, 2), (1, 1, 1, 24)),\n",
    "    'Chinatown-Lt Bourke St (South)': ((1, 0, 2), (1, 1, 1, 24)),\n",
    "    'Lonsdale St (South)': ((2, 0, 1), (1, 1, 1, 24)),\n",
    "    'Lygon St (West)': ((2, 0, 2), (1, 1, 1, 24))\n",
    "}\n",
    "\n",
    "trained_models = {}\n",
    "\n",
    "for column, (order, seasonal_order) in best_params.items():\n",
    "    print(f\"Training SARIMAX model for column: {column}\")\n",
    "    \n",
    "    # Define the SARIMAX model\n",
    "    model = SARIMAX(\n",
    "        train[column],\n",
    "        order=order,\n",
    "        seasonal_order=seasonal_order,\n",
    "        enforce_stationarity=False,\n",
    "        enforce_invertibility=False\n",
    "    )\n",
    "    \n",
    "    # Fit the model\n",
    "    results = model.fit(disp=False)\n",
    "    trained_models[column] = results\n",
    "    \n",
    "    # Save the trained model to a file\n",
    "    with open(f'{column.replace(\" \", \"_\")}_sarimax_model.pkl', 'wb') as file:\n",
    "        #pickle.dump(results, file)\n",
    "    \n",
    "    print(f\"Model for {column} saved successfully.\")"
   ]
  },
  {
   "cell_type": "markdown",
   "metadata": {},
   "source": [
    "#### Load"
   ]
  },
  {
   "cell_type": "markdown",
   "metadata": {},
   "source": [
    "## Test"
   ]
  },
  {
   "cell_type": "code",
   "execution_count": null,
   "metadata": {},
   "outputs": [],
   "source": [
    "import pickle\n",
    "\n",
    "# Define the column names to match the saved models\n",
    "columns = [\n",
    "    'Little Collins St-Swanston St (East)',\n",
    "    'Faraday St-Lygon St (West)',\n",
    "    'Melbourne Central',\n",
    "    'Chinatown-Lt Bourke St (South)',\n",
    "    'Lonsdale St (South)',\n",
    "    'Lygon St (West)'\n",
    "]\n",
    "\n",
    "# Initialize a dictionary to store the loaded models\n",
    "loaded_models = {}\n",
    "\n",
    "# Load each model\n",
    "for column in columns:\n",
    "    file_name = f'{column.replace(\" \", \"_\")}_sarimax_model.pkl'\n",
    "    try:\n",
    "        with open(file_name, 'rb') as file:\n",
    "            loaded_models[column] = pickle.load(file)\n",
    "        print(f\"Model for {column} loaded successfully.\")\n",
    "    except FileNotFoundError:\n",
    "        print(f\"Model file for {column} not found: {file_name}\")\n",
    "\n",
    "# Check loaded models\n",
    "print(\"Loaded models:\", list(loaded_models.keys()))\n"
   ]
  },
  {
   "cell_type": "code",
   "execution_count": null,
   "metadata": {},
   "outputs": [],
   "source": [
    "# Example: Predict for one column\n",
    "columns = [\n",
    "    'Little Collins St-Swanston St (East)',\n",
    "    'Faraday St-Lygon St (West)',\n",
    "    'Melbourne Central',\n",
    "    'Chinatown-Lt Bourke St (South)',\n",
    "    'Lonsdale St (South)',\n",
    "    'Lygon St (West)'\n",
    "]\n",
    "\n",
    "column = 'Little Collins St-Swanston St (East)'\n",
    "model = loaded_models[column]\n",
    "\n",
    "# Generate predictions\n",
    "start = test.index[0]\n",
    "end = test.index[-1]\n",
    "\n",
    "predictions = model.get_prediction(start=start, end=end)\n",
    "predicted_mean = predictions.predicted_mean\n",
    "confidence_intervals = predictions.conf_int()\n",
    "\n",
    "# Combine predictions with test data\n",
    "test_results = test.copy()\n",
    "test_results['Predicted'] = predicted_mean\n",
    "test_results['Lower_CI'] = confidence_intervals.iloc[:, 0]\n",
    "test_results['Upper_CI'] = confidence_intervals.iloc[:, 1]\n",
    "\n",
    "print(test_results.head())\n"
   ]
  },
  {
   "cell_type": "code",
   "execution_count": null,
   "metadata": {},
   "outputs": [],
   "source": [
    "import matplotlib.pyplot as plt\n",
    "\n",
    "plt.figure(figsize=(12, 6))\n",
    "plt.plot(test.index[:200], test['Little Collins St-Swanston St (East)'][:200], label='Actual')\n",
    "plt.plot(test.index[:200], test_results['Predicted'][:200], label='Predicted', color='red')\n",
    "plt.fill_between(test.index[:200], \n",
    "                 test_results['Lower_CI'][:200], \n",
    "                 test_results['Upper_CI'][:200], \n",
    "                 color='pink', alpha=0.3, label='Confidence Interval')\n",
    "plt.legend()\n",
    "plt.title('SARIMAX Predictions vs Actuals')\n",
    "plt.show()\n"
   ]
  },
  {
   "cell_type": "code",
   "execution_count": null,
   "metadata": {},
   "outputs": [],
   "source": [
    "from sklearn.metrics import mean_absolute_error, mean_squared_error\n",
    "import numpy as np\n",
    "\n",
    "mae = mean_absolute_error(test['Little Collins St-Swanston St (East)'], test_results['Predicted'])\n",
    "rmse = np.sqrt(mean_squared_error(test['Little Collins St-Swanston St (East)'], test_results['Predicted']))\n",
    "\n",
    "print(f'MAE: {mae}')\n",
    "print(f'RMSE: {rmse}')\n"
   ]
  },
  {
   "cell_type": "markdown",
   "metadata": {},
   "source": [
    "## Check for Resid"
   ]
  },
  {
   "cell_type": "code",
   "execution_count": null,
   "metadata": {},
   "outputs": [],
   "source": [
    "from statsmodels.tsa.statespace.sarimax import SARIMAX\n",
    "\n",
    "model = SARIMAX(train['Little Collins St-Swanston St (East)'],\n",
    "                order=(1, 1, 0),\n",
    "                seasonal_order=(1, 0, 0, 24),\n",
    "                enforce_stationarity=False,\n",
    "                enforce_invertibility=False)\n",
    "results = model.fit()\n",
    "print(results.summary())\n",
    "results.plot_diagnostics(figsize=(15, 8))\n"
   ]
  },
  {
   "cell_type": "code",
   "execution_count": null,
   "metadata": {},
   "outputs": [],
   "source": [
    "import matplotlib.pyplot as plt\n",
    "\n",
    "# Residuals from the fitted model\n",
    "residuals = sarimax_results.resid\n",
    "\n",
    "# Plot residuals\n",
    "plt.figure(figsize=(10, 6))\n",
    "plt.plot(residuals)\n",
    "plt.title('Residuals')\n",
    "plt.axhline(0, linestyle='--', color='r', alpha=0.7)\n",
    "plt.show()\n"
   ]
  },
  {
   "cell_type": "code",
   "execution_count": null,
   "metadata": {},
   "outputs": [],
   "source": [
    "from statsmodels.graphics.tsaplots import plot_acf, plot_pacf\n",
    "\n",
    "# ACF plot\n",
    "plot_acf(residuals, lags=10, alpha=0.05)\n",
    "plt.title('ACF of Residuals')\n",
    "plt.show()\n",
    "\n",
    "# PACF plot\n",
    "plot_pacf(residuals, lags=10, alpha=0.05)\n",
    "plt.title('PACF of Residuals')\n",
    "plt.show()\n"
   ]
  },
  {
   "cell_type": "code",
   "execution_count": null,
   "metadata": {},
   "outputs": [],
   "source": [
    "from statsmodels.stats.diagnostic import acorr_ljungbox\n",
    "\n",
    "# Ljung-Box test\n",
    "ljung_box = acorr_ljungbox(residuals, lags=[10, 20, 30], return_df=True)\n",
    "print(ljung_box)\n"
   ]
  },
  {
   "cell_type": "markdown",
   "metadata": {},
   "source": [
    "## Alternative"
   ]
  },
  {
   "cell_type": "code",
   "execution_count": null,
   "metadata": {},
   "outputs": [],
   "source": [
    "# Read csv\n",
    "import pandas as pd\n",
    "import numpy as np\n",
    "import pandas as pd\n",
    "from sklearn.metrics import mean_squared_error\n",
    "\n",
    "df = pd.read_csv('..\\\\0_Data\\\\processed\\\\final_df.csv', parse_dates=True, index_col=0)\n",
    "df.index = pd.to_datetime(df.index)\n",
    "\n",
    "\n",
    "df_save = df.copy()\n",
    "\n",
    "def RMSE(y_true, y_pred):\n",
    "    rmse = np.sqrt(mean_squared_error(y_true, y_pred))\n",
    "    return rmse\n"
   ]
  },
  {
   "cell_type": "code",
   "execution_count": null,
   "metadata": {},
   "outputs": [],
   "source": [
    "len(train)/3*2\n"
   ]
  },
  {
   "cell_type": "code",
   "execution_count": null,
   "metadata": {},
   "outputs": [],
   "source": [
    "import pmdarima as pm\n",
    "columns = ['Little Collins St-Swanston St (East)',\n",
    "       'Faraday St-Lygon St (West)', 'Melbourne Central',\n",
    "       'Chinatown-Lt Bourke St (South)', 'Lonsdale St (South)',\n",
    "       'Lygon St (West)']\n",
    "columns = ['Little Collins St-Swanston St (East)']\n",
    "\n",
    "for colum in columns:\n",
    "       df = df_save.copy()\n",
    "       name = f\"{colum}_lag1\"\n",
    "       name2 = f\"{colum}_lag24\"\n",
    "       df[name] = df[colum].shift(1)\n",
    "       df[name2] = df[colum].rolling(window=24).mean()\n",
    "       df = df.dropna()\n",
    "\n",
    "       train = df[df.index < \"2024-10-16\"]\n",
    "\n",
    "       lenght = 10000\n",
    "       train = train[lenght:]\n",
    "\n",
    "\n",
    "       test = df[df.index >= \"2024-10-16\"]\n",
    "\n",
    "       X_train = train.drop(columns=colum)\n",
    "       X_test = test.drop(columns=colum)\n",
    "       y_train = train[colum]\n",
    "       y_test = test[colum]\n",
    "\n",
    "       sarimax_model = pm.auto_arima(y_train, X_train=X_train, seasonal=True, m=24,\n",
    "                                trace=True, error_action='ignore',  \n",
    "                                suppress_warnings=True, stepwise=True, \n",
    "                                test='adf')\n",
    "\n",
    "       print(sarimax_model.summary())\n",
    "\n",
    "       y_pred = sarimax_model.predict(X_test)\n",
    "       rmse = RMSE(y_test, y_pred)\n",
    "       print(f\"From {column} RMSE is {rmse}\")"
   ]
  },
  {
   "cell_type": "code",
   "execution_count": null,
   "metadata": {},
   "outputs": [],
   "source": [
    "from statsmodels.tsa.statespace.sarimax import SARIMAX\n",
    "import pickle\n",
    "best_params = {\n",
    "    'Little Collins St-Swanston St (East)': ((1, 0, 2), (1, 1, 1, 24)),\n",
    "    'Faraday St-Lygon St (West)': ((1, 0, 2), (1, 1, 1, 24)),\n",
    "    'Melbourne Central': ((1, 0, 2), (1, 1, 1, 24)),\n",
    "    'Chinatown-Lt Bourke St (South)': ((1, 0, 2), (1, 1, 1, 24)),\n",
    "    'Lonsdale St (South)': ((2, 0, 1), (1, 1, 1, 24)),\n",
    "    'Lygon St (West)': ((2, 0, 2), (1, 1, 1, 24))\n",
    "}\n",
    "\n",
    "import pmdarima as pm\n",
    "best_params = {\n",
    "    'Little Collins St-Swanston St (East)': ((1, 0, 2), (1, 1, 1, 24))}\n",
    "\n",
    "for column, (order, seasonal_order) in best_params.items():\n",
    "\n",
    "    df = df_save.copy()\n",
    "    name = f\"{colum}_lag1\"\n",
    "    name2 = f\"{colum}_lag24\"\n",
    "    df[name] = df[colum].shift(1)\n",
    "    df[name2] = df[colum].rolling(window=24).mean()\n",
    "    df = df.dropna()\n",
    "\n",
    "    train = df[df.index < \"2024-10-16\"]\n",
    "\n",
    "    lenght = 10000\n",
    "    train = train[lenght:]\n",
    "\n",
    "\n",
    "    test = df[df.index >= \"2024-10-16\"]\n",
    "\n",
    "    X_train = train.drop(columns=colum)\n",
    "    X_test = test.drop(columns=colum)\n",
    "    y_train = train[colum]\n",
    "    y_test = test[colum]\n",
    "\n",
    "    print(f\"Training SARIMAX model for column: {column}\")\n",
    "    \n",
    "    # Define the SARIMAX model\n",
    "    model = SARIMAX(\n",
    "        y_train,\n",
    "        exog = X_train,\n",
    "        order=order,\n",
    "        seasonal_order=seasonal_order,\n",
    "        enforce_stationarity=False,\n",
    "        enforce_invertibility=False\n",
    "    )\n",
    "    \n",
    "    # Fit the model\n",
    "    results = model.fit(disp=False)\n",
    "    \n",
    "    print(f\"Model for {column} saved successfully.\")\n",
    "\n",
    "    # Predict future values\n",
    "    forecast = results.get_forecast(steps=len(X_test), exog=X_test)\n",
    "\n",
    "    # Extract the predicted mean values\n",
    "    predicted_values = forecast.predicted_mean\n",
    "\n",
    "    rmse = RMSE(y_test, predicted_values)\n",
    "    print(f\"From {column} RMSE is {rmse}\")"
   ]
  },
  {
   "cell_type": "code",
   "execution_count": null,
   "metadata": {},
   "outputs": [],
   "source": []
  },
  {
   "cell_type": "markdown",
   "metadata": {},
   "source": [
    "# GARCH"
   ]
  },
  {
   "cell_type": "code",
   "execution_count": null,
   "metadata": {},
   "outputs": [],
   "source": []
  },
  {
   "cell_type": "markdown",
   "metadata": {},
   "source": [
    "# Try TBATS "
   ]
  },
  {
   "cell_type": "markdown",
   "metadata": {},
   "source": [
    "https://medium.com/intive-developers/forecasting-time-series-with-multiple-seasonalities-using-tbats-in-python-398a00ac0e8a"
   ]
  },
  {
   "cell_type": "code",
   "execution_count": null,
   "metadata": {},
   "outputs": [],
   "source": []
  }
 ],
 "metadata": {
  "kernelspec": {
   "display_name": "Python 3 (ipykernel)",
   "language": "python",
   "name": "python3"
  },
  "language_info": {
   "codemirror_mode": {
    "name": "ipython",
    "version": 3
   },
   "file_extension": ".py",
   "mimetype": "text/x-python",
   "name": "python",
   "nbconvert_exporter": "python",
   "pygments_lexer": "ipython3",
   "version": "3.12.7"
  }
 },
 "nbformat": 4,
 "nbformat_minor": 4
}
