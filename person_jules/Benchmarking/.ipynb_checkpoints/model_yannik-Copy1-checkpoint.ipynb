{
 "cells": [
  {
   "cell_type": "code",
   "execution_count": 7,
   "metadata": {},
   "outputs": [],
   "source": [
    "import pandas as pd"
   ]
  },
  {
   "cell_type": "markdown",
   "metadata": {},
   "source": [
    "# Loading"
   ]
  },
  {
   "cell_type": "code",
   "execution_count": 8,
   "metadata": {},
   "outputs": [
    {
     "data": {
      "text/html": [
       "<div>\n",
       "<style scoped>\n",
       "    .dataframe tbody tr th:only-of-type {\n",
       "        vertical-align: middle;\n",
       "    }\n",
       "\n",
       "    .dataframe tbody tr th {\n",
       "        vertical-align: top;\n",
       "    }\n",
       "\n",
       "    .dataframe thead th {\n",
       "        text-align: right;\n",
       "    }\n",
       "</style>\n",
       "<table border=\"1\" class=\"dataframe\">\n",
       "  <thead>\n",
       "    <tr style=\"text-align: right;\">\n",
       "      <th></th>\n",
       "      <th>Date</th>\n",
       "      <th>Hour</th>\n",
       "      <th>Little Collins St-Swanston St (East)</th>\n",
       "      <th>Faraday St-Lygon St (West)</th>\n",
       "      <th>Melbourne Central</th>\n",
       "      <th>Chinatown-Lt Bourke St (South)</th>\n",
       "      <th>Lonsdale St (South)</th>\n",
       "      <th>Lygon St (West)</th>\n",
       "      <th>Weekday</th>\n",
       "      <th>Month</th>\n",
       "      <th>Season</th>\n",
       "      <th>IsPublicHoliday</th>\n",
       "    </tr>\n",
       "    <tr>\n",
       "      <th>Datetime</th>\n",
       "      <th></th>\n",
       "      <th></th>\n",
       "      <th></th>\n",
       "      <th></th>\n",
       "      <th></th>\n",
       "      <th></th>\n",
       "      <th></th>\n",
       "      <th></th>\n",
       "      <th></th>\n",
       "      <th></th>\n",
       "      <th></th>\n",
       "      <th></th>\n",
       "    </tr>\n",
       "  </thead>\n",
       "  <tbody>\n",
       "    <tr>\n",
       "      <th>2022-04-01 00:00:00</th>\n",
       "      <td>01/04/2022</td>\n",
       "      <td>0</td>\n",
       "      <td>166.0</td>\n",
       "      <td>24.0</td>\n",
       "      <td>380.0</td>\n",
       "      <td>73.0</td>\n",
       "      <td>215.0</td>\n",
       "      <td>48.0</td>\n",
       "      <td>5</td>\n",
       "      <td>4</td>\n",
       "      <td>Spring</td>\n",
       "      <td>0</td>\n",
       "    </tr>\n",
       "    <tr>\n",
       "      <th>2022-04-01 01:00:00</th>\n",
       "      <td>01/04/2022</td>\n",
       "      <td>1</td>\n",
       "      <td>108.0</td>\n",
       "      <td>9.0</td>\n",
       "      <td>198.0</td>\n",
       "      <td>79.0</td>\n",
       "      <td>156.0</td>\n",
       "      <td>11.0</td>\n",
       "      <td>5</td>\n",
       "      <td>4</td>\n",
       "      <td>Spring</td>\n",
       "      <td>0</td>\n",
       "    </tr>\n",
       "  </tbody>\n",
       "</table>\n",
       "</div>"
      ],
      "text/plain": [
       "                           Date  Hour  Little Collins St-Swanston St (East)  \\\n",
       "Datetime                                                                      \n",
       "2022-04-01 00:00:00  01/04/2022     0                                 166.0   \n",
       "2022-04-01 01:00:00  01/04/2022     1                                 108.0   \n",
       "\n",
       "                     Faraday St-Lygon St (West)  Melbourne Central  \\\n",
       "Datetime                                                             \n",
       "2022-04-01 00:00:00                        24.0              380.0   \n",
       "2022-04-01 01:00:00                         9.0              198.0   \n",
       "\n",
       "                     Chinatown-Lt Bourke St (South)  Lonsdale St (South)  \\\n",
       "Datetime                                                                   \n",
       "2022-04-01 00:00:00                            73.0                215.0   \n",
       "2022-04-01 01:00:00                            79.0                156.0   \n",
       "\n",
       "                     Lygon St (West)  Weekday  Month  Season  IsPublicHoliday  \n",
       "Datetime                                                                       \n",
       "2022-04-01 00:00:00             48.0        5      4  Spring                0  \n",
       "2022-04-01 01:00:00             11.0        5      4  Spring                0  "
      ]
     },
     "execution_count": 8,
     "metadata": {},
     "output_type": "execute_result"
    }
   ],
   "source": [
    "# Read csv\n",
    "df = pd.read_csv('first_5_points copy.csv', parse_dates=True, index_col=0)\n",
    "df.index = pd.to_datetime(df.index)\n",
    "df.head(2)"
   ]
  },
  {
   "cell_type": "code",
   "execution_count": 9,
   "metadata": {},
   "outputs": [],
   "source": [
    "train = df[df.index < \"2024-10-16\"]\n",
    "test = df[df.index >= \"2024-10-16\"]"
   ]
  },
  {
   "cell_type": "markdown",
   "metadata": {},
   "source": [
    "# SARIMA"
   ]
  },
  {
   "cell_type": "code",
   "execution_count": 10,
   "metadata": {},
   "outputs": [
    {
     "data": {
      "text/plain": [
       "Index(['Date', 'Hour', 'Little Collins St-Swanston St (East)',\n",
       "       'Faraday St-Lygon St (West)', 'Melbourne Central',\n",
       "       'Chinatown-Lt Bourke St (South)', 'Lonsdale St (South)',\n",
       "       'Lygon St (West)', 'Weekday', 'Month', 'Season', 'IsPublicHoliday'],\n",
       "      dtype='object')"
      ]
     },
     "execution_count": 10,
     "metadata": {},
     "output_type": "execute_result"
    }
   ],
   "source": [
    "train.columns"
   ]
  },
  {
   "cell_type": "markdown",
   "metadata": {},
   "source": [
    "## Staionary d"
   ]
  },
  {
   "cell_type": "code",
   "execution_count": null,
   "metadata": {},
   "outputs": [],
   "source": [
    "from statsmodels.tsa.stattools import adfuller\n",
    "\n",
    "target_column = ['Little Collins St-Swanston St (East)',\n",
    "       'Faraday St-Lygon St (West)', 'Melbourne Central',\n",
    "       'Chinatown-Lt Bourke St (South)', 'Lonsdale St (South)',\n",
    "       'Lygon St (West)']\n",
    "\n",
    "for column in target_column:\n",
    "    print(column)\n",
    "    result = adfuller(train[column])\n",
    "    print('p-value:', result[1])  # A p-value > 0.05 indicates non-stationarity.\n"
   ]
  },
  {
   "cell_type": "markdown",
   "metadata": {},
   "source": [
    "No differnecing needed"
   ]
  },
  {
   "cell_type": "code",
   "execution_count": 12,
   "metadata": {},
   "outputs": [],
   "source": [
    "d = 0"
   ]
  },
  {
   "cell_type": "markdown",
   "metadata": {},
   "source": [
    "## Seasonal"
   ]
  },
  {
   "cell_type": "code",
   "execution_count": null,
   "metadata": {},
   "outputs": [],
   "source": [
    "from statsmodels.tsa.seasonal import seasonal_decompose\n",
    "import matplotlib.pyplot as plt\n",
    "\n",
    "df_2 = train[:1000]\n",
    "\n",
    "decomposition = seasonal_decompose(df_2['Little Collins St-Swanston St (East)'], model='additive', period=24)  # e.g., 24 for hourly data\n",
    "fig = decomposition.plot()\n",
    "# Make lines thinner\n",
    "for ax in fig.axes:\n",
    "    plt.setp(ax.lines, linewidth=1)\n",
    "\n",
    "fig.set_size_inches(10, 6)  # Width x Height in inches\n",
    "fig.tight_layout()  # Adjust spacing\n",
    "plt.show()\n"
   ]
  },
  {
   "cell_type": "code",
   "execution_count": null,
   "metadata": {},
   "outputs": [],
   "source": [
    "S = 24"
   ]
  },
  {
   "cell_type": "markdown",
   "metadata": {},
   "source": [
    "## Parameter search"
   ]
  },
  {
   "cell_type": "code",
   "execution_count": null,
   "metadata": {},
   "outputs": [],
   "source": [
    "import itertools\n",
    "import pandas as pd\n",
    "from statsmodels.tsa.statespace.sarimax import SARIMAX\n",
    "from tqdm import tqdm  # For progress bar\n",
    "\n",
    "# Define parameter ranges\n",
    "p = q = range(0, 4)  # Range for p and q\n",
    "d = 0                # Fixed d\n",
    "P = D = Q = range(0, 3)  # Range for seasonal P, D, Q\n",
    "m = 24               # Daily seasonality\n",
    "\n",
    "train = train.asfreq('H')\n",
    "\n",
    "# Generate all parameter combinations\n",
    "pdq = [(p_val, d, q_val) for p_val in p for q_val in q]  # Fix d = 0\n",
    "print(\"Non-seasonal combinations (p, d, q):\", pdq)\n",
    "\n",
    "seasonal_pdq = [(P_val, D_val, Q_val, m) for P_val in P for D_val in D for Q_val in Q]\n",
    "print(\"Seasonal combinations (P, D, Q, m):\", seasonal_pdq)\n",
    "\n",
    "total_combinations = len(pdq) * len(seasonal_pdq)\n",
    "\n",
    "# Initialize a dictionary to store the best results for each column\n",
    "best_results = {}\n",
    "\n",
    "columns = ['Little Collins St-Swanston St (East)',\n",
    "       'Faraday St-Lygon St (West)', 'Melbourne Central',\n",
    "       'Chinatown-Lt Bourke St (South)', 'Lonsdale St (South)',\n",
    "       'Lygon St (West)']\n",
    "\n",
    "# Iterate over columns\n",
    "for column in columns:\n",
    "    print(f\"Processing column: {column}\")\n",
    "    \n",
    "    # Reset best AIC and parameters for each column\n",
    "    best_aic = float('inf')\n",
    "    best_params = None\n",
    "    \n",
    "    # Progress bar\n",
    "    progress_bar = tqdm(total=total_combinations, desc=f\"Testing SARIMAX for {column}\")\n",
    "    \n",
    "    # Grid search over all parameter combinations\n",
    "    for param in pdq:\n",
    "        for seasonal_param in seasonal_pdq:\n",
    "            try:\n",
    "                # Fit the model\n",
    "                model = SARIMAX(\n",
    "                    train[column],\n",
    "                    order=param,\n",
    "                    seasonal_order=seasonal_param,\n",
    "                    enforce_stationarity=False,\n",
    "                    enforce_invertibility=False\n",
    "                )\n",
    "                results = model.fit(disp=False)\n",
    "\n",
    "                # Check if the model is better\n",
    "                if results.aic < best_aic:\n",
    "                    best_aic = results.aic\n",
    "                    best_params = (param, seasonal_param)\n",
    "\n",
    "            except Exception as e:\n",
    "                # Handle exceptions (e.g., convergence issues) silently\n",
    "                pass\n",
    "\n",
    "            # Update the progress bar\n",
    "            progress_bar.update(1)\n",
    "\n",
    "    # Close the progress bar\n",
    "    progress_bar.close()\n",
    "\n",
    "    # Store the best parameters and AIC for this column\n",
    "    best_results[column] = {'params': best_params, 'aic': best_aic}\n",
    "\n",
    "    print(f\"Best SARIMAX parameters for {column}: {best_params} with AIC: {best_aic}\")\n",
    "\n",
    "# Display the results for all columns\n",
    "for col, result in best_results.items():\n",
    "    print(f\"Column: {col}, Best Params: {result['params']}, Best AIC: {result['aic']}\")\n"
   ]
  },
  {
   "cell_type": "markdown",
   "metadata": {},
   "source": [
    "Column: Little Collins St-Swanston St (East): ((1, 0, 2), (1, 1, 1, 24)) with AIC: 230806.7825760926 <br>\n",
    "Column: Faraday St-Lygon St (West), Best Params: ((1, 0, 2), (1, 1, 1, 24)), Best AIC: 190003.90829115754 <br>\n",
    "Column: Melbourne Central, Best Params: ((1, 0, 2), (1, 1, 1, 24)), Best AIC: 233857.60412778181 <br>\n",
    "Column: Chinatown-Lt Bourke St (South), Best Params: ((1, 0, 2), (1, 1, 1, 24)), Best AIC: 219997.16664512668 <br>\n",
    "Column: Lonsdale St (South), Best Params: ((2, 0, 1), (1, 1, 1, 24)), Best AIC: 208037.09922881392 <br>\n",
    "Column: Lygon St (West), Best Params: ((2, 0, 2), (1, 1, 1, 24)), Best AIC: 195383.3819879219 <br>"
   ]
  },
  {
   "cell_type": "markdown",
   "metadata": {},
   "source": [
    "## Fit SARIMAX"
   ]
  },
  {
   "cell_type": "code",
   "execution_count": null,
   "metadata": {},
   "outputs": [],
   "source": [
    "from statsmodels.tsa.statespace.sarimax import SARIMAX\n",
    "import pickle\n",
    "best_params = {\n",
    "    'Little Collins St-Swanston St (East)': ((1, 0, 2), (1, 1, 1, 24)),\n",
    "    'Faraday St-Lygon St (West)': ((1, 0, 2), (1, 1, 1, 24)),\n",
    "    'Melbourne Central': ((1, 0, 2), (1, 1, 1, 24)),\n",
    "    'Chinatown-Lt Bourke St (South)': ((1, 0, 2), (1, 1, 1, 24)),\n",
    "    'Lonsdale St (South)': ((2, 0, 1), (1, 1, 1, 24)),\n",
    "}\n",
    "\n",
    "trained_models = {}\n",
    "\n",
    "for column, (order, seasonal_order) in best_params.items():\n",
    "    print(f\"Training SARIMAX model for column: {column}\")\n",
    "    \n",
    "    # Define the SARIMAX model\n",
    "    model = SARIMAX(\n",
    "        train[column],\n",
    "        order=order,\n",
    "        seasonal_order=seasonal_order,\n",
    "        enforce_stationarity=False,\n",
    "        enforce_invertibility=False\n",
    "    )\n",
    "    \n",
    "    # Fit the model\n",
    "    results = model.fit(disp=False)\n",
    "    trained_models[column] = results\n",
    "    \n",
    "    # Save the trained model to a file\n",
    "    with open(f'{column.replace(\" \", \"_\")}_sarimax_model.pkl', 'wb') as file:\n",
    "        #pickle.dump(results, file)\n",
    "    \n",
    "        print(f\"Model for {column} saved successfully.\")"
   ]
  },
  {
   "cell_type": "markdown",
   "metadata": {},
   "source": [
    "# Train Test save csv prediciton directly no pkl "
   ]
  },
  {
   "cell_type": "code",
   "execution_count": 8,
   "metadata": {},
   "outputs": [
    {
     "name": "stdout",
     "output_type": "stream",
     "text": [
      "Data loaded successfully.\n",
      "Processing column: Little Collins St-Swanston St (East)\n"
     ]
    },
    {
     "name": "stderr",
     "output_type": "stream",
     "text": [
      "/opt/anaconda3/lib/python3.12/site-packages/statsmodels/tsa/base/tsa_model.py:473: ValueWarning: A date index has been provided, but it has no associated frequency information and so will be ignored when e.g. forecasting.\n",
      "  self._init_dates(dates, freq)\n",
      "/opt/anaconda3/lib/python3.12/site-packages/statsmodels/tsa/base/tsa_model.py:473: ValueWarning: A date index has been provided, but it has no associated frequency information and so will be ignored when e.g. forecasting.\n",
      "  self._init_dates(dates, freq)\n",
      "/opt/anaconda3/lib/python3.12/site-packages/statsmodels/tsa/base/tsa_model.py:836: ValueWarning: No supported index is available. Prediction results will be given with an integer index beginning at `start`.\n",
      "  return get_prediction_index(\n",
      "/opt/anaconda3/lib/python3.12/site-packages/statsmodels/tsa/base/tsa_model.py:836: FutureWarning: No supported index is available. In the next version, calling this method in a model without a supported index will result in an exception.\n",
      "  return get_prediction_index(\n",
      "/opt/anaconda3/lib/python3.12/site-packages/statsmodels/tsa/base/tsa_model.py:473: ValueWarning: A date index has been provided, but it has no associated frequency information and so will be ignored when e.g. forecasting.\n",
      "  self._init_dates(dates, freq)\n",
      "/opt/anaconda3/lib/python3.12/site-packages/statsmodels/tsa/base/tsa_model.py:473: ValueWarning: A date index has been provided, but it has no associated frequency information and so will be ignored when e.g. forecasting.\n",
      "  self._init_dates(dates, freq)\n"
     ]
    },
    {
     "name": "stdout",
     "output_type": "stream",
     "text": [
      "Predictions for Little Collins St-Swanston St (East) generated successfully.\n",
      "Processing column: Faraday St-Lygon St (West)\n"
     ]
    },
    {
     "name": "stderr",
     "output_type": "stream",
     "text": [
      "/opt/anaconda3/lib/python3.12/site-packages/statsmodels/tsa/base/tsa_model.py:836: ValueWarning: No supported index is available. Prediction results will be given with an integer index beginning at `start`.\n",
      "  return get_prediction_index(\n",
      "/opt/anaconda3/lib/python3.12/site-packages/statsmodels/tsa/base/tsa_model.py:836: FutureWarning: No supported index is available. In the next version, calling this method in a model without a supported index will result in an exception.\n",
      "  return get_prediction_index(\n",
      "/opt/anaconda3/lib/python3.12/site-packages/statsmodels/tsa/base/tsa_model.py:473: ValueWarning: A date index has been provided, but it has no associated frequency information and so will be ignored when e.g. forecasting.\n",
      "  self._init_dates(dates, freq)\n",
      "/opt/anaconda3/lib/python3.12/site-packages/statsmodels/tsa/base/tsa_model.py:473: ValueWarning: A date index has been provided, but it has no associated frequency information and so will be ignored when e.g. forecasting.\n",
      "  self._init_dates(dates, freq)\n"
     ]
    },
    {
     "name": "stdout",
     "output_type": "stream",
     "text": [
      "Predictions for Faraday St-Lygon St (West) generated successfully.\n",
      "Processing column: Melbourne Central\n"
     ]
    },
    {
     "name": "stderr",
     "output_type": "stream",
     "text": [
      "/opt/anaconda3/lib/python3.12/site-packages/statsmodels/tsa/base/tsa_model.py:836: ValueWarning: No supported index is available. Prediction results will be given with an integer index beginning at `start`.\n",
      "  return get_prediction_index(\n",
      "/opt/anaconda3/lib/python3.12/site-packages/statsmodels/tsa/base/tsa_model.py:836: FutureWarning: No supported index is available. In the next version, calling this method in a model without a supported index will result in an exception.\n",
      "  return get_prediction_index(\n",
      "/opt/anaconda3/lib/python3.12/site-packages/statsmodels/tsa/base/tsa_model.py:473: ValueWarning: A date index has been provided, but it has no associated frequency information and so will be ignored when e.g. forecasting.\n",
      "  self._init_dates(dates, freq)\n",
      "/opt/anaconda3/lib/python3.12/site-packages/statsmodels/tsa/base/tsa_model.py:473: ValueWarning: A date index has been provided, but it has no associated frequency information and so will be ignored when e.g. forecasting.\n",
      "  self._init_dates(dates, freq)\n"
     ]
    },
    {
     "name": "stdout",
     "output_type": "stream",
     "text": [
      "Predictions for Melbourne Central generated successfully.\n",
      "Processing column: Chinatown-Lt Bourke St (South)\n"
     ]
    },
    {
     "name": "stderr",
     "output_type": "stream",
     "text": [
      "/opt/anaconda3/lib/python3.12/site-packages/statsmodels/tsa/base/tsa_model.py:836: ValueWarning: No supported index is available. Prediction results will be given with an integer index beginning at `start`.\n",
      "  return get_prediction_index(\n",
      "/opt/anaconda3/lib/python3.12/site-packages/statsmodels/tsa/base/tsa_model.py:836: FutureWarning: No supported index is available. In the next version, calling this method in a model without a supported index will result in an exception.\n",
      "  return get_prediction_index(\n",
      "/opt/anaconda3/lib/python3.12/site-packages/statsmodels/tsa/base/tsa_model.py:473: ValueWarning: A date index has been provided, but it has no associated frequency information and so will be ignored when e.g. forecasting.\n",
      "  self._init_dates(dates, freq)\n",
      "/opt/anaconda3/lib/python3.12/site-packages/statsmodels/tsa/base/tsa_model.py:473: ValueWarning: A date index has been provided, but it has no associated frequency information and so will be ignored when e.g. forecasting.\n",
      "  self._init_dates(dates, freq)\n"
     ]
    },
    {
     "name": "stdout",
     "output_type": "stream",
     "text": [
      "Predictions for Chinatown-Lt Bourke St (South) generated successfully.\n",
      "Processing column: Lonsdale St (South)\n",
      "Predictions for Lonsdale St (South) generated successfully.\n",
      "Predictions saved to 'sarimax_predictions.csv'.\n"
     ]
    },
    {
     "name": "stderr",
     "output_type": "stream",
     "text": [
      "/opt/anaconda3/lib/python3.12/site-packages/statsmodels/tsa/base/tsa_model.py:836: ValueWarning: No supported index is available. Prediction results will be given with an integer index beginning at `start`.\n",
      "  return get_prediction_index(\n",
      "/opt/anaconda3/lib/python3.12/site-packages/statsmodels/tsa/base/tsa_model.py:836: FutureWarning: No supported index is available. In the next version, calling this method in a model without a supported index will result in an exception.\n",
      "  return get_prediction_index(\n"
     ]
    }
   ],
   "source": [
    "import pandas as pd\n",
    "from statsmodels.tsa.statespace.sarimax import SARIMAX\n",
    "import numpy as np\n",
    "\n",
    "# Define evaluation metrics (optional, for verification)\n",
    "def calculate_metrics(y_true, y_pred):\n",
    "    rmse = mean_squared_error(y_true, y_pred, squared=False)\n",
    "    mape = np.mean(np.abs((y_true - y_pred) / y_true)) * 100\n",
    "    return rmse, mape\n",
    "\n",
    "# Define the best parameters for SARIMAX\n",
    "best_params = {\n",
    "    'Little Collins St-Swanston St (East)': ((1, 0, 2), (1, 1, 1, 24)),\n",
    "    'Faraday St-Lygon St (West)': ((1, 0, 2), (1, 1, 1, 24)),\n",
    "    'Melbourne Central': ((1, 0, 2), (1, 1, 1, 24)),\n",
    "    'Chinatown-Lt Bourke St (South)': ((1, 0, 2), (1, 1, 1, 24)),\n",
    "    'Lonsdale St (South)': ((2, 0, 1), (1, 1, 1, 24)),\n",
    "}\n",
    "\n",
    "# Load the data\n",
    "data = pd.read_csv('first_5_points copy.csv', parse_dates=['Datetime'], index_col='Datetime')\n",
    "print(\"Data loaded successfully.\")\n",
    "\n",
    "# Initialize a DataFrame to store predictions\n",
    "predictions = pd.DataFrame(index=data.iloc[-16 * 24:].index)  # Test period index\n",
    "\n",
    "# Process each location\n",
    "for column, (order, seasonal_order) in best_params.items():\n",
    "    print(f\"Processing column: {column}\")\n",
    "    \n",
    "    if column not in data.columns:\n",
    "        print(f\"Column {column} not found in data. Skipping...\")\n",
    "        continue\n",
    "\n",
    "    # Prepare the data\n",
    "    y = data[column].dropna()\n",
    "    \n",
    "    # Split into training and testing (last 16 days for testing)\n",
    "    split_index = len(y) - 16 * 24\n",
    "    train, test = y.iloc[:split_index], y.iloc[split_index:]\n",
    "    \n",
    "    try:\n",
    "        # Define and train the SARIMAX model\n",
    "        model = SARIMAX(\n",
    "            train,\n",
    "            order=order,\n",
    "            seasonal_order=seasonal_order,\n",
    "            enforce_stationarity=False,\n",
    "            enforce_invertibility=False\n",
    "        )\n",
    "        results = model.fit(disp=False)\n",
    "        \n",
    "        # Generate predictions for the test set\n",
    "        y_pred = results.forecast(steps=len(test))\n",
    "        \n",
    "        # Store predictions in the DataFrame\n",
    "        predictions[column] = y_pred.values\n",
    "        print(f\"Predictions for {column} generated successfully.\")\n",
    "        \n",
    "    except Exception as e:\n",
    "        print(f\"Error processing {column}: {e}\")\n",
    "\n",
    "# Save predictions to a CSV file\n",
    "predictions.to_csv('sarimax_predictions.csv')\n",
    "print(\"Predictions saved to 'sarimax_predictions.csv'.\")"
   ]
  },
  {
   "cell_type": "code",
   "execution_count": null,
   "metadata": {},
   "outputs": [],
   "source": []
  }
 ],
 "metadata": {
  "kernelspec": {
   "display_name": "Python 3 (ipykernel)",
   "language": "python",
   "name": "python3"
  },
  "language_info": {
   "codemirror_mode": {
    "name": "ipython",
    "version": 3
   },
   "file_extension": ".py",
   "mimetype": "text/x-python",
   "name": "python",
   "nbconvert_exporter": "python",
   "pygments_lexer": "ipython3",
   "version": "3.12.7"
  }
 },
 "nbformat": 4,
 "nbformat_minor": 4
}
