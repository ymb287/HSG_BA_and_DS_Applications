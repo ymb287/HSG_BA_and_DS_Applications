{
 "cells": [
  {
   "cell_type": "markdown",
   "id": "f8e1023c-b138-4763-83bb-c5257757604d",
   "metadata": {},
   "source": [
    "# My Model building "
   ]
  },
  {
   "cell_type": "code",
   "execution_count": null,
   "id": "43fae9a4-1783-4005-a8a0-fec7cbc3b30d",
   "metadata": {},
   "outputs": [],
   "source": []
  }
 ],
 "metadata": {
  "kernelspec": {
   "display_name": "Python 3 (ipykernel)",
   "language": "python",
   "name": "python3"
  },
  "language_info": {
   "codemirror_mode": {
    "name": "ipython",
    "version": 3
   },
   "file_extension": ".py",
   "mimetype": "text/x-python",
   "name": "python",
   "nbconvert_exporter": "python",
   "pygments_lexer": "ipython3",
   "version": "3.12.7"
  }
 },
 "nbformat": 4,
 "nbformat_minor": 5
}
