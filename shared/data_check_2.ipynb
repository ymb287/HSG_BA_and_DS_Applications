{
  "nbformat": 4,
  "nbformat_minor": 0,
  "metadata": {
    "colab": {
      "provenance": []
    },
    "kernelspec": {
      "name": "python3",
      "display_name": "Python 3"
    },
    "language_info": {
      "name": "python"
    }
  },
  "cells": [
    {
      "cell_type": "code",
      "source": [
        "#sincronise with google drive\n",
        "from google.colab import drive\n",
        "drive.mount('/content/drive')"
      ],
      "metadata": {
        "colab": {
          "base_uri": "https://localhost:8080/"
        },
        "id": "J-rE0D9eIPRQ",
        "outputId": "5c89026d-db92-4229-954b-510f90bcb9e8"
      },
      "execution_count": null,
      "outputs": [
        {
          "output_type": "stream",
          "name": "stdout",
          "text": [
            "Mounted at /content/drive\n"
          ]
        }
      ]
    },
    {
      "cell_type": "code",
      "execution_count": null,
      "metadata": {
        "id": "1zhUPkdXzPem",
        "colab": {
          "base_uri": "https://localhost:8080/"
        },
        "outputId": "23a344fc-c368-4557-b0bc-bf698b6cc311"
      },
      "outputs": [
        {
          "output_type": "stream",
          "name": "stdout",
          "text": [
            "November_2024.csv not found in 2024\n",
            "December_2024.csv not found in 2024\n",
            "Locations with no missing data across all files:\n",
            "['version https://git-lfs.github.com/spec/v1']\n",
            "\n",
            "Locations with no zero values across all files (excluding Date and Hour):\n",
            "['version https://git-lfs.github.com/spec/v1']\n",
            "\n",
            "Locations meeting both criteria:\n",
            "['version https://git-lfs.github.com/spec/v1']\n"
          ]
        }
      ],
      "source": [
        "import os\n",
        "import pandas as pd\n",
        "\n",
        "data_folder = '/content/drive/MyDrive/Colab Notebooks/BADA/group project/raw'\n",
        "years = ['2022', '2023', '2024']\n",
        "months = ['January', 'February', 'March', 'April', 'May', 'June', 'July', 'August', 'September', 'October', 'November', 'December']\n",
        "\n",
        "# Initialize lists to store results\n",
        "locations_with_no_missing_data = []\n",
        "locations_with_no_zeros = []\n",
        "\n",
        "# Load all datasets\n",
        "for year in years:\n",
        "    for month in months:\n",
        "        filename = f'{month}_{year}.csv'\n",
        "        file_path = os.path.join(data_folder, filename)\n",
        "        if os.path.exists(file_path):\n",
        "            try:\n",
        "                df = pd.read_csv(file_path)\n",
        "\n",
        "                # Check for missing data\n",
        "                locations_with_no_missing_data_in_file = df.columns[df.notna().all()].tolist()\n",
        "                locations_with_no_missing_data.extend(locations_with_no_missing_data_in_file)\n",
        "\n",
        "                # Check for zero values (excluding Date and Hour)\n",
        "                locations_with_no_zeros_in_file = df.columns[(df != 0).all() & (~df.columns.isin(['Date', 'Hour']))].tolist()\n",
        "                locations_with_no_zeros.extend(locations_with_no_zeros_in_file)\n",
        "\n",
        "            except Exception as e:\n",
        "                print(f\"Error loading {filename}: {e}\")\n",
        "        else:\n",
        "            print(f'{filename} not found in {year}')\n",
        "\n",
        "# Get unique locations that meet criteria\n",
        "locations_with_no_missing_data = list(set(locations_with_no_missing_data))\n",
        "locations_with_no_zeros = list(set(locations_with_no_zeros))\n",
        "\n",
        "# Print results\n",
        "print(\"Locations with no missing data across all files:\")\n",
        "print(locations_with_no_missing_data)\n",
        "print(\"\\nLocations with no zero values across all files (excluding Date and Hour):\")\n",
        "print(locations_with_no_zeros)\n",
        "\n",
        "# Locations meeting both criteria\n",
        "locations_meeting_both_criteria = list(set(locations_with_no_missing_data) & set(locations_with_no_zeros))\n",
        "print(\"\\nLocations meeting both criteria:\")\n",
        "print(locations_meeting_both_criteria)"
      ]
    }
  ]
}